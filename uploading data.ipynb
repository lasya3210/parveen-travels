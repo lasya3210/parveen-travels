{
 "cells": [
  {
   "cell_type": "code",
   "execution_count": 1,
   "metadata": {},
   "outputs": [
    {
     "name": "stdout",
     "output_type": "stream",
     "text": [
      "demo11source-bucket\n",
      "demo22destination-bucket\n",
      "mti-backup-bucket\n",
      "mti-source-bucket\n",
      "mtieat-my-bucket\n",
      "praveen-travel-destination-bucket\n",
      "praveen-travel-source-bucket\n",
      "praveen-travels-backup-bucket\n",
      "praveen-travels-main-bucket\n",
      "test-bucket-destination-5\n",
      "test-source-bucket-5\n"
     ]
    }
   ],
   "source": [
    "import boto3 as b3\n",
    "import pandas as pd\n",
    "s3_client=b3.client('s3')\n",
    "s3=b3.resource('s3')\n",
    "for bucket in s3.buckets.all():\n",
    "    print(bucket.name)"
   ]
  },
  {
   "cell_type": "code",
   "execution_count": 2,
   "metadata": {},
   "outputs": [],
   "source": [
    "bucket_name='praveen-travels-main-bucket'\n",
    "\n",
    "object_name='bookings.csv'\n",
    "s3_client.upload_file(r\"C:\\Users\\lasya\\OneDrive\\Desktop\\DS PROJECT\\datascience project\\bookings.csv\",bucket_name,object_name)\n",
    "object_name='customers.csv'\n",
    "s3_client.upload_file(r\"C:\\Users\\lasya\\OneDrive\\Desktop\\DS PROJECT\\datascience project\\customers.csv\",bucket_name,object_name)\n",
    "object_name='routes.csv'\n",
    "s3_client.upload_file(r\"C:\\Users\\lasya\\OneDrive\\Desktop\\DS PROJECT\\datascience project\\routes.csv\",bucket_name,object_name)\n"
   ]
  },
  {
   "cell_type": "code",
   "execution_count": 3,
   "metadata": {},
   "outputs": [
    {
     "name": "stdout",
     "output_type": "stream",
     "text": [
      "  Route_ID             Origin       Destination  Distance (km)  \\\n",
      "0     R001         Pettymouth  West Joelborough            749   \n",
      "1     R002       Port Johnton    North Jonathan           1092   \n",
      "2     R003        Madisonberg       South Danny           1172   \n",
      "3     R004  North Rebeccafort       Deborahfurt            232   \n",
      "4     R005      East Courtney      Port Jeffery            305   \n",
      "\n",
      "   Duration (hours)        Bus_Type  Ticket_Price (INR)  \n",
      "0               5.4      AC Sleeper                1616  \n",
      "1              11.9   Non-AC Seater                 967  \n",
      "2               4.3  Non-AC Sleeper                1112  \n",
      "3              12.2   Non-AC Seater                1806  \n",
      "4               1.5   Non-AC Seater                1982  \n"
     ]
    }
   ],
   "source": [
    "bucket_name='praveen-travels-main-bucket'\n",
    "object_name='routes.csv'\n",
    "\n",
    "responce=s3_client.get_object(Bucket=bucket_name,Key=object_name)\n",
    "df=pd.read_csv(responce['Body'])\n",
    "print(df.head())"
   ]
  }
 ],
 "metadata": {
  "kernelspec": {
   "display_name": "Python 3",
   "language": "python",
   "name": "python3"
  },
  "language_info": {
   "codemirror_mode": {
    "name": "ipython",
    "version": 3
   },
   "file_extension": ".py",
   "mimetype": "text/x-python",
   "name": "python",
   "nbconvert_exporter": "python",
   "pygments_lexer": "ipython3",
   "version": "3.13.1"
  }
 },
 "nbformat": 4,
 "nbformat_minor": 2
}

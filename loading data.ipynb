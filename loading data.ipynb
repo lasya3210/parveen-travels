{
 "cells": [
  {
   "cell_type": "code",
   "execution_count": 13,
   "metadata": {},
   "outputs": [],
   "source": [
    "import pandas as pd\n",
    "bookingsdata_frame=pd.read_csv(r\"C:\\Users\\lasya\\OneDrive\\Desktop\\DS PROJECT\\datascience project\\bookings.csv\")"
   ]
  },
  {
   "cell_type": "code",
   "execution_count": 14,
   "metadata": {},
   "outputs": [],
   "source": [
    "import pandas as pd\n",
    "routesdata_frame=pd.read_csv(r\"C:\\Users\\lasya\\OneDrive\\Desktop\\DS PROJECT\\datascience project\\routes.csv\")"
   ]
  },
  {
   "cell_type": "code",
   "execution_count": 15,
   "metadata": {},
   "outputs": [],
   "source": [
    "import pandas as pd\n",
    "customersdata_frame=pd.read_csv(r\"C:\\Users\\lasya\\OneDrive\\Desktop\\DS PROJECT\\datascience project\\customers.csv\")"
   ]
  },
  {
   "cell_type": "code",
   "execution_count": 16,
   "metadata": {},
   "outputs": [
    {
     "name": "stdout",
     "output_type": "stream",
     "text": [
      "Dataset Shape: (100, 6)\n"
     ]
    }
   ],
   "source": [
    "# Number of rows and columns for customers data\n",
    "print(\"Dataset Shape:\",customersdata_frame.shape)\n"
   ]
  },
  {
   "cell_type": "code",
   "execution_count": 17,
   "metadata": {},
   "outputs": [
    {
     "name": "stdout",
     "output_type": "stream",
     "text": [
      "Dataset Shape: (50, 7)\n"
     ]
    }
   ],
   "source": [
    "#no of rows and columns for routes data\n",
    "print(\"Dataset Shape:\",routesdata_frame.shape)"
   ]
  },
  {
   "cell_type": "code",
   "execution_count": 18,
   "metadata": {},
   "outputs": [
    {
     "name": "stdout",
     "output_type": "stream",
     "text": [
      "Dataset Shape: (500, 7)\n"
     ]
    }
   ],
   "source": [
    "#no of rows and columns for bookings  data\n",
    "print(\"Dataset Shape:\",bookingsdata_frame.shape)\n"
   ]
  },
  {
   "cell_type": "code",
   "execution_count": 27,
   "metadata": {},
   "outputs": [
    {
     "name": "stdout",
     "output_type": "stream",
     "text": [
      "Missing Values:\n",
      " Booking_ID      0\n",
      "Customer_ID     0\n",
      "Route_ID        0\n",
      "Booking_Date    0\n",
      "Travel_Date     0\n",
      "Seats_Booked    0\n",
      "Rating          0\n",
      "dtype: int64\n"
     ]
    }
   ],
   "source": [
    "#  missing values for bookings data\n",
    "\n",
    "print(\"Missing Values:\\n\", bookingsdata_frame.isnull().sum())\n"
   ]
  },
  {
   "cell_type": "code",
   "execution_count": null,
   "metadata": {},
   "outputs": [
    {
     "name": "stdout",
     "output_type": "stream",
     "text": [
      "Data Types:\n",
      " Route_ID               object\n",
      "Origin                 object\n",
      "Destination            object\n",
      "Distance (km)           int64\n",
      "Duration (hours)      float64\n",
      "Bus_Type               object\n",
      "Ticket_Price (INR)      int64\n",
      "dtype: object\n",
      "Missing Values:\n",
      " Route_ID              0\n",
      "Origin                0\n",
      "Destination           0\n",
      "Distance (km)         0\n",
      "Duration (hours)      0\n",
      "Bus_Type              0\n",
      "Ticket_Price (INR)    0\n",
      "dtype: int64\n"
     ]
    }
   ],
   "source": [
    "#  missing values for routes data\n",
    "\n",
    "print(\"Missing Values:\\n\", routesdata_frame.isnull().sum())\n"
   ]
  },
  {
   "cell_type": "code",
   "execution_count": null,
   "metadata": {},
   "outputs": [
    {
     "name": "stdout",
     "output_type": "stream",
     "text": [
      "Data Types:\n",
      " Customer_ID           object\n",
      "Name                  object\n",
      "Age_Group             object\n",
      "Gender                object\n",
      "Location              object\n",
      "Preferred_Bus_Type    object\n",
      "dtype: object\n",
      "Missing Values:\n",
      " Customer_ID           0\n",
      "Name                  0\n",
      "Age_Group             0\n",
      "Gender                0\n",
      "Location              0\n",
      "Preferred_Bus_Type    0\n",
      "dtype: int64\n"
     ]
    }
   ],
   "source": [
    "#  missing values for customers data\n",
    "\n",
    "print(\"Missing Values:\\n\", customersdata_frame.isnull().sum())\n"
   ]
  },
  {
   "cell_type": "code",
   "execution_count": 22,
   "metadata": {},
   "outputs": [
    {
     "name": "stdout",
     "output_type": "stream",
     "text": [
      "Unique values in Booking_ID: 500\n",
      "Unique values in Customer_ID: 100\n",
      "Unique values in Route_ID: 50\n",
      "Unique values in Booking_Date: 401\n",
      "Unique values in Travel_Date: 393\n",
      "       Seats_Booked      Rating\n",
      "count    500.000000  500.000000\n",
      "mean       3.054000    3.046000\n",
      "std        1.432196    1.171439\n",
      "min        1.000000    1.000000\n",
      "25%        2.000000    2.100000\n",
      "50%        3.000000    3.000000\n",
      "75%        4.000000    4.100000\n",
      "max        5.000000    5.000000\n"
     ]
    }
   ],
   "source": [
    "# Unique values in categorical columns for bookings data\n",
    "categorical_cols = bookingsdata_frame.select_dtypes(include=['object']).columns\n",
    "for col in categorical_cols:\n",
    "    print(f\"Unique values in {col}:\", bookingsdata_frame[col].nunique())\n",
    "\n",
    "# Summary statistics for bookings data\n",
    "print(bookingsdata_frame.describe())"
   ]
  },
  {
   "cell_type": "code",
   "execution_count": 23,
   "metadata": {},
   "outputs": [
    {
     "name": "stdout",
     "output_type": "stream",
     "text": [
      "Unique values in Route_ID: 50\n",
      "Unique values in Origin: 50\n",
      "Unique values in Destination: 50\n",
      "Unique values in Bus_Type: 4\n",
      "       Distance (km)  Duration (hours)  Ticket_Price (INR)\n",
      "count      50.000000         50.000000           50.000000\n",
      "mean      783.420000         12.174000         1156.780000\n",
      "std       413.378815          6.093717          475.532324\n",
      "min        73.000000          1.500000          316.000000\n",
      "25%       477.250000          6.550000          847.000000\n",
      "50%       820.000000         12.100000         1159.000000\n",
      "75%      1132.500000         17.300000         1527.500000\n",
      "max      1498.000000         23.900000         1985.000000\n"
     ]
    }
   ],
   "source": [
    "# Unique values in categorical columns for routes data\n",
    "categorical_cols = routesdata_frame.select_dtypes(include=['object']).columns\n",
    "for col in categorical_cols:\n",
    "    print(f\"Unique values in {col}:\", routesdata_frame[col].nunique())\n",
    "\n",
    "# Summary statistics for routes data\n",
    "print(routesdata_frame.describe())"
   ]
  },
  {
   "cell_type": "code",
   "execution_count": 24,
   "metadata": {},
   "outputs": [
    {
     "name": "stdout",
     "output_type": "stream",
     "text": [
      "Unique values in Customer_ID: 100\n",
      "Unique values in Name: 100\n",
      "Unique values in Age_Group: 5\n",
      "Unique values in Gender: 3\n",
      "Unique values in Location: 100\n",
      "Unique values in Preferred_Bus_Type: 4\n",
      "       Customer_ID           Name Age_Group      Gender    Location  \\\n",
      "count          100            100       100         100         100   \n",
      "unique         100            100         5           3         100   \n",
      "top           C001  Ashley Hooper       >60  Non-Binary  Annchester   \n",
      "freq             1              1        24          43           1   \n",
      "\n",
      "       Preferred_Bus_Type  \n",
      "count                 100  \n",
      "unique                  4  \n",
      "top        Non-AC Sleeper  \n",
      "freq                   32  \n"
     ]
    }
   ],
   "source": [
    "# Unique values in categorical columns for customers data\n",
    "categorical_cols = customersdata_frame.select_dtypes(include=['object']).columns\n",
    "for col in categorical_cols:\n",
    "    print(f\"Unique values in {col}:\", customersdata_frame[col].nunique())\n",
    "\n",
    "# Summary statistics for customerss data\n",
    "print(customersdata_frame.describe())"
   ]
  },
  {
   "cell_type": "code",
   "execution_count": 25,
   "metadata": {},
   "outputs": [
    {
     "name": "stdout",
     "output_type": "stream",
     "text": [
      "    Booking_ID Customer_ID Route_ID Booking_Date Travel_Date  Seats_Booked  \\\n",
      "0        B0001        C065     R026   17-11-2023  12-12-2023             4   \n",
      "1        B0002        C076     R038   10-04-2024  08-05-2024             3   \n",
      "2        B0003        C092     R047   02-10-2023  23-10-2023             4   \n",
      "3        B0004        C004     R026   27-12-2023  10-01-2024             4   \n",
      "4        B0005        C080     R050   10-01-2023  30-01-2023             5   \n",
      "..         ...         ...      ...          ...         ...           ...   \n",
      "495      B0496        C006     R013   16-07-2022  20-07-2022             4   \n",
      "496      B0497        C072     R010   19-05-2023  08-06-2023             2   \n",
      "497      B0498        C071     R009   29-12-2021  07-01-2022             1   \n",
      "498      B0499        C032     R029   02-04-2023  07-04-2023             4   \n",
      "499      B0500        C024     R026   10-12-2022  08-01-2023             2   \n",
      "\n",
      "     Rating                     Name Age_Group      Gender          Location  \\\n",
      "0       4.9           Robin Martinez       <18  Non-Binary      Mcdanielside   \n",
      "1       2.1           Tyler Shepherd     18–25  Non-Binary         Evanburgh   \n",
      "2       3.9             Jason George     18–25  Non-Binary         Hallshire   \n",
      "3       1.5          Kathryn Mueller     41–60  Non-Binary       New Melissa   \n",
      "4       5.0           Leroy Williams       >60        Male  West Austinshire   \n",
      "..      ...                      ...       ...         ...               ...   \n",
      "495     2.7           Cynthia Norman     41–60  Non-Binary        Mendeztown   \n",
      "496     3.6            James Aguirre     18–25  Non-Binary        East Marie   \n",
      "497     1.6          Andrew Clements     18–25      Female        Andrewview   \n",
      "498     4.7  Katherine Gallagher DDS     18–25  Non-Binary        Josephport   \n",
      "499     3.2            Mallory Lopez       >60        Male     Carterborough   \n",
      "\n",
      "    Preferred_Bus_Type          Origin     Destination  Distance (km)  \\\n",
      "0           AC Sleeper      Walterfort   Port Johnland            636   \n",
      "1           AC Sleeper       Mccoystad        Westberg           1087   \n",
      "2      AC Semi-Sleeper    Benjaminstad   West Annaland            662   \n",
      "3           AC Sleeper      Walterfort   Port Johnland            636   \n",
      "4       Non-AC Sleeper     Vincentview  South Corystad            347   \n",
      "..                 ...             ...             ...            ...   \n",
      "495     Non-AC Sleeper     Gilberttown    Kaylachester            477   \n",
      "496    AC Semi-Sleeper  North Maryport       East Mark            804   \n",
      "497         AC Sleeper  Kennedyborough      Jonesshire           1265   \n",
      "498     Non-AC Sleeper     Ramireztown      Evelynland           1235   \n",
      "499    AC Semi-Sleeper      Walterfort   Port Johnland            636   \n",
      "\n",
      "     Duration (hours)         Bus_Type  Ticket_Price (INR)  \n",
      "0                 7.4    Non-AC Seater                1765  \n",
      "1                 5.0    Non-AC Seater                 360  \n",
      "2                11.7    Non-AC Seater                 856  \n",
      "3                 7.4    Non-AC Seater                1765  \n",
      "4                14.8   Non-AC Sleeper                 725  \n",
      "..                ...              ...                 ...  \n",
      "495               2.6  AC Semi-Sleeper                1240  \n",
      "496               2.5  AC Semi-Sleeper                1878  \n",
      "497              19.5       AC Sleeper                 805  \n",
      "498               8.2    Non-AC Seater                 443  \n",
      "499               7.4    Non-AC Seater                1765  \n",
      "\n",
      "[500 rows x 18 columns]\n"
     ]
    }
   ],
   "source": [
    "merged_df = pd.merge(bookingsdata_frame, customersdata_frame, on='Customer_ID')\n",
    "merged_df = pd.merge(merged_df, routesdata_frame, on='Route_ID')\n",
    "print(merged_df)\n"
   ]
  },
  {
   "cell_type": "code",
   "execution_count": 31,
   "metadata": {},
   "outputs": [
    {
     "name": "stdout",
     "output_type": "stream",
     "text": [
      "Data Types:\n",
      " Route_ID               object\n",
      "Origin                 object\n",
      "Destination            object\n",
      "Distance (km)           int64\n",
      "Duration (hours)      float64\n",
      "Bus_Type               object\n",
      "Ticket_Price (INR)      int64\n",
      "dtype: object\n"
     ]
    }
   ],
   "source": [
    "print(\"Data Types:\\n\", routesdata_frame.dtypes)"
   ]
  },
  {
   "cell_type": "code",
   "execution_count": 28,
   "metadata": {},
   "outputs": [
    {
     "name": "stdout",
     "output_type": "stream",
     "text": [
      "Data Types:\n",
      " Booking_ID       object\n",
      "Customer_ID      object\n",
      "Route_ID         object\n",
      "Booking_Date     object\n",
      "Travel_Date      object\n",
      "Seats_Booked      int64\n",
      "Rating          float64\n",
      "dtype: object\n"
     ]
    }
   ],
   "source": [
    "print(\"Data Types:\\n\", bookingsdata_frame.dtypes)"
   ]
  },
  {
   "cell_type": "code",
   "execution_count": 32,
   "metadata": {},
   "outputs": [
    {
     "name": "stdout",
     "output_type": "stream",
     "text": [
      "Data Types:\n",
      " Customer_ID           object\n",
      "Name                  object\n",
      "Age_Group             object\n",
      "Gender                object\n",
      "Location              object\n",
      "Preferred_Bus_Type    object\n",
      "dtype: object\n"
     ]
    }
   ],
   "source": [
    "print(\"Data Types:\\n\", customersdata_frame.dtypes)"
   ]
  },
  {
   "cell_type": "code",
   "execution_count": 26,
   "metadata": {},
   "outputs": [],
   "source": [
    "#Changing Data Types for customerss and routes\n",
    "\n",
    "\n",
    "customersdata_frame['Customer_ID'] = customersdata_frame['Customer_ID'].astype(str)\n",
    "routesdata_frame['Route_ID'] = routesdata_frame['Route_ID'].astype(str)\n"
   ]
  }
 ],
 "metadata": {
  "kernelspec": {
   "display_name": "Python 3",
   "language": "python",
   "name": "python3"
  },
  "language_info": {
   "codemirror_mode": {
    "name": "ipython",
    "version": 3
   },
   "file_extension": ".py",
   "mimetype": "text/x-python",
   "name": "python",
   "nbconvert_exporter": "python",
   "pygments_lexer": "ipython3",
   "version": "3.13.1"
  }
 },
 "nbformat": 4,
 "nbformat_minor": 2
}
